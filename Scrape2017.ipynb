{
 "cells": [
  {
   "cell_type": "code",
   "execution_count": 1,
   "metadata": {},
   "outputs": [],
   "source": [
    "from classes.league import League\n",
    "import psycopg2\n",
    "import random\n",
    "import time\n",
    "import pandas as pd"
   ]
  },
  {
   "cell_type": "markdown",
   "metadata": {},
   "source": [
    "### Construct PostgreSQL Insert Statements from League object"
   ]
  },
  {
   "cell_type": "code",
   "execution_count": 2,
   "metadata": {},
   "outputs": [],
   "source": [
    "def export_sql(league):\n",
    "    if not league.scrapeable():\n",
    "        print(\"League not scrapeable... Please try another league\")\n",
    "        return\n",
    "    \n",
    "    # Build insert statement to league table\n",
    "    league_attrs = ['league_id', 'league_name', 'year', 'draft_type', 'num_teams', 'scoring_type',\\\n",
    "                   'roster_size', 'num_starters', 'num_bench', 'ppr_pts', 'keepers']\n",
    "    insert_league_dict = {k: vars(league)[k] for k in league_attrs}\n",
    "    insert_league_list = []\n",
    "    for attr in league_attrs:\n",
    "        if insert_league_dict[attr] == None:\n",
    "            insert_league_list.append(\"NULL\")\n",
    "        elif type(insert_league_dict[attr]) == str:\n",
    "            insert_league_list.append(\"'\" + insert_league_dict[attr] + \"'\")\n",
    "        else:\n",
    "            insert_league_list.append(str(insert_league_dict[attr]))\n",
    "\n",
    "    # Roster breakdown\n",
    "    conn = psycopg2.connect('dbname=draft_analysis user=scraper')\n",
    "    cur = conn.cursor()\n",
    "    cur.execute(\"SELECT * FROM Draft2018.FantasyLeague LIMIT 0;\")\n",
    "    colnames = [desc[0] for desc in cur.description]\n",
    "    \n",
    "    old_pos = []\n",
    "    for col in colnames:\n",
    "        if 'num_rostered_' in col:\n",
    "            old_pos.append(col)\n",
    "    \n",
    "    new_pos = []\n",
    "    for pos, pos_count in league.roster_breakdown.items():\n",
    "        if ('num_rostered_' + pos).lower() not in colnames:\n",
    "            new_pos.append(('num_rostered_' + pos).lower())\n",
    "    \n",
    "    if len(new_pos) != 0:\n",
    "        # Need to add new column in SQL database\n",
    "        alter_pos_str = \"ALTER TABLE Draft2018.FantasyLeague ADD COLUMN {0} smallint DEFAULT 0;\"\n",
    "        for pos in new_pos:\n",
    "            cur.execute(alter_pos_str.format(pos))\n",
    "    \n",
    "    for col in old_pos + new_pos:\n",
    "        pos = col.replace('num_rostered_', '')\n",
    "        if pos in league.roster_breakdown:\n",
    "            insert_league_list.append(str(league.roster_breakdown[pos]))\n",
    "        else:\n",
    "            insert_league_list.append('0')\n",
    "        \n",
    "    value_str = ', '.join(insert_league_list)\n",
    "    insert_league_str = [\"INSERT INTO Draft2018.FantasyLeague VALUES (\" + value_str + \");\"]\n",
    "\n",
    "    # Build insert statement to owner table\n",
    "    owner_attrs = ['league_id', 'team_names', 'team_records', 'team_pf', 'team_pa']\n",
    "    insert_owner_dict = {k: vars(league)[k] for k in owner_attrs}\n",
    "    insert_owner_strs = []\n",
    "    for owner_id in league.team_ids:\n",
    "        insert_owner_list = []\n",
    "        insert_owner_list.append(str(owner_id))\n",
    "        for attr in owner_attrs:\n",
    "            if insert_owner_dict[attr] == None:\n",
    "                insert_owner_list.append(\"NULL\")\n",
    "            elif type(insert_owner_dict[attr]) == str:\n",
    "                insert_owner_list.append(\"'\" + insert_owner_dict[attr] + \"'\")\n",
    "            elif type(insert_owner_dict[attr]) == dict:\n",
    "                if type(insert_owner_dict[attr][owner_id]) == list:\n",
    "                    insert_owner_list.append( str(insert_owner_dict[attr][owner_id][0]))\n",
    "                    insert_owner_list.append(str(insert_owner_dict[attr][owner_id][1]))\n",
    "                    insert_owner_list.append(str(insert_owner_dict[attr][owner_id][2]))\n",
    "                elif type(insert_owner_dict[attr][owner_id]) == str:\n",
    "                    insert_owner_list.append(\"'\" + insert_owner_dict[attr][owner_id] + \"'\")\n",
    "                else:\n",
    "                    insert_owner_list.append(str(insert_owner_dict[attr][owner_id]))\n",
    "            else:\n",
    "                insert_owner_list.append(str(insert_owner_dict[attr]))\n",
    "        value_str = ', '.join(insert_owner_list)\n",
    "        insert_owner_strs.append(\"INSERT INTO Draft2018.FantasyOwner VALUES (\" + value_str + \");\")\n",
    "    \n",
    "    # Update player table and build insert statements for player table           \n",
    "    cur.execute(\"SELECT player_id FROM Draft2018.Player;\")\n",
    "    player_query = cur.fetchall()\n",
    "    existing_ids = [player[0] for player in player_query]\n",
    "    \n",
    "    insert_player_strs = []\n",
    "    for player_id,player_name,player_pos, player_team in league.drafted_players:\n",
    "        if player_id not in existing_ids:\n",
    "            insert_player = \"INSERT INTO Draft2018.Player VALUES ({0},'{1}','{2}','{3}')\"\n",
    "            insert_player = insert_player.format(player_id, player_name, player_pos, player_team)\n",
    "            insert_player_strs.append(insert_player)\n",
    "        \n",
    "    # Build insert statements for draft pick table\n",
    "    insert_draft_strs = []\n",
    "    for owner_id, pick_number, round_number, player_id, keeper in league.draft_picks:\n",
    "        insert_draft = \"INSERT INTO Draft2018.DraftPick VALUES({0},{1},{2},{3},{4},{5});\"\n",
    "        insert_draft = insert_draft.format(league.league_id, owner_id, pick_number,\\\n",
    "                                               round_number, player_id, keeper)\n",
    "        insert_draft_strs.append(insert_draft)\n",
    "\n",
    "    conn.commit()  \n",
    "    cur.close()\n",
    "    conn.close()\n",
    "\n",
    "    return (insert_league_str, insert_owner_strs, insert_player_strs, insert_draft_strs)"
   ]
  },
  {
   "cell_type": "markdown",
   "metadata": {},
   "source": [
    "### Scrape Data into Postgres DB"
   ]
  },
  {
   "cell_type": "code",
   "execution_count": 3,
   "metadata": {},
   "outputs": [],
   "source": [
    "def scrape_draft(league_id, year):\n",
    "    conn = psycopg2.connect(\"dbname=draft_analysis user=scraper\")\n",
    "    cur = conn.cursor()\n",
    "    \n",
    "    # Scrape and INSERT league/owners\n",
    "    lg = League(league_id, year)\n",
    "\n",
    "    if not lg.scrapeable():\n",
    "        cur.close()\n",
    "        conn.close()\n",
    "        return\n",
    "    \n",
    "    lg.scrape_all()\n",
    "    insert_statements = export_sql(lg)\n",
    "    \n",
    "    for insert_list in insert_statements:\n",
    "        for insert in insert_list:\n",
    "            cur.execute(insert)\n",
    "\n",
    "    conn.commit()\n",
    "    cur.close()\n",
    "    conn.close()"
   ]
  },
  {
   "cell_type": "code",
   "execution_count": 5,
   "metadata": {},
   "outputs": [],
   "source": [
    "id_list = list(pd.read_table('data/10000ids.csv',header=None)[0])\n",
    "id_list.remove(614576)"
   ]
  },
  {
   "cell_type": "code",
   "execution_count": 6,
   "metadata": {
    "scrolled": true
   },
   "outputs": [],
   "source": [
    "conn = psycopg2.connect(\"dbname=draft_analysis user=scraper\")\n",
    "cur = conn.cursor()\n",
    "cur.execute(\"SELECT league_id FROM Draft2017.FantasyLeague;\")\n",
    "existing_leagues = [entry[0] for entry in cur.fetchall()]\n",
    "cur.close()\n",
    "conn.close()\n",
    "\n",
    "for league_id in id_list:\n",
    "    if league_id not in existing_leagues:\n",
    "        try:\n",
    "            scrape_draft(league_id, 2017)\n",
    "        except:\n",
    "            pass\n",
    "        time.sleep(random.random()*5)"
   ]
  }
 ],
 "metadata": {
  "kernelspec": {
   "display_name": "Python [conda env:espyn_dev]",
   "language": "python",
   "name": "conda-env-espyn_dev-py"
  },
  "language_info": {
   "codemirror_mode": {
    "name": "ipython",
    "version": 3
   },
   "file_extension": ".py",
   "mimetype": "text/x-python",
   "name": "python",
   "nbconvert_exporter": "python",
   "pygments_lexer": "ipython3",
   "version": "3.6.5"
  },
  "toc": {
   "base_numbering": 1,
   "nav_menu": {},
   "number_sections": false,
   "sideBar": true,
   "skip_h1_title": true,
   "title_cell": "Table of Contents",
   "title_sidebar": "Contents",
   "toc_cell": false,
   "toc_position": {},
   "toc_section_display": true,
   "toc_window_display": false
  },
  "varInspector": {
   "cols": {
    "lenName": 16,
    "lenType": 16,
    "lenVar": 40
   },
   "kernels_config": {
    "python": {
     "delete_cmd_postfix": "",
     "delete_cmd_prefix": "del ",
     "library": "var_list.py",
     "varRefreshCmd": "print(var_dic_list())"
    },
    "r": {
     "delete_cmd_postfix": ") ",
     "delete_cmd_prefix": "rm(",
     "library": "var_list.r",
     "varRefreshCmd": "cat(var_dic_list()) "
    }
   },
   "types_to_exclude": [
    "module",
    "function",
    "builtin_function_or_method",
    "instance",
    "_Feature"
   ],
   "window_display": false
  }
 },
 "nbformat": 4,
 "nbformat_minor": 2
}
