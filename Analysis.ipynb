{
 "cells": [
  {
   "cell_type": "markdown",
   "metadata": {},
   "source": [
    "# 2017 ESPN Fantasy Football Draft Analysis"
   ]
  },
  {
   "cell_type": "code",
   "execution_count": 1,
   "metadata": {},
   "outputs": [],
   "source": [
    "import pandas as pd\n",
    "import numpy as np\n",
    "import psycopg2\n",
    "from matplotlib import pyplot as plt\n",
    "import seaborn as sns\n",
    "%matplotlib inline"
   ]
  },
  {
   "cell_type": "markdown",
   "metadata": {},
   "source": [
    "### Load data from Postgres DB"
   ]
  },
  {
   "cell_type": "code",
   "execution_count": 2,
   "metadata": {},
   "outputs": [],
   "source": [
    "conn_str = \"dbname = draft_analysis user = scraper\"\n",
    "conn = psycopg2.connect(conn_str)"
   ]
  },
  {
   "cell_type": "code",
   "execution_count": 3,
   "metadata": {},
   "outputs": [],
   "source": [
    "query = \"SELECT o.league_id || '_' || o.owner_id id, d.pick_number, p.position \\\n",
    "            FROM Draft2017.FantasyOwner o \\\n",
    "            NATURAL JOIN Draft2017.DraftPick d \\\n",
    "            NATURAL JOIN Draft2017.Player p \\\n",
    "            NATURAL JOIN Draft2017.FantasyLeague lg \\\n",
    "            WHERE lg.ppr_points = 0 \\\n",
    "            ORDER BY 1;\""
   ]
  },
  {
   "cell_type": "code",
   "execution_count": 4,
   "metadata": {},
   "outputs": [
    {
     "data": {
      "text/html": [
       "<div>\n",
       "<style scoped>\n",
       "    .dataframe tbody tr th:only-of-type {\n",
       "        vertical-align: middle;\n",
       "    }\n",
       "\n",
       "    .dataframe tbody tr th {\n",
       "        vertical-align: top;\n",
       "    }\n",
       "\n",
       "    .dataframe thead th {\n",
       "        text-align: right;\n",
       "    }\n",
       "</style>\n",
       "<table border=\"1\" class=\"dataframe\">\n",
       "  <thead>\n",
       "    <tr style=\"text-align: right;\">\n",
       "      <th></th>\n",
       "      <th>id</th>\n",
       "      <th>pick_number</th>\n",
       "      <th>position</th>\n",
       "    </tr>\n",
       "  </thead>\n",
       "  <tbody>\n",
       "    <tr>\n",
       "      <th>0</th>\n",
       "      <td>614546_1</td>\n",
       "      <td>2</td>\n",
       "      <td>wr</td>\n",
       "    </tr>\n",
       "    <tr>\n",
       "      <th>1</th>\n",
       "      <td>614546_1</td>\n",
       "      <td>10</td>\n",
       "      <td>rb</td>\n",
       "    </tr>\n",
       "    <tr>\n",
       "      <th>2</th>\n",
       "      <td>614546_1</td>\n",
       "      <td>18</td>\n",
       "      <td>rb</td>\n",
       "    </tr>\n",
       "    <tr>\n",
       "      <th>3</th>\n",
       "      <td>614546_1</td>\n",
       "      <td>34</td>\n",
       "      <td>wr</td>\n",
       "    </tr>\n",
       "    <tr>\n",
       "      <th>4</th>\n",
       "      <td>614546_1</td>\n",
       "      <td>66</td>\n",
       "      <td>wr</td>\n",
       "    </tr>\n",
       "  </tbody>\n",
       "</table>\n",
       "</div>"
      ],
      "text/plain": [
       "         id  pick_number position\n",
       "0  614546_1            2       wr\n",
       "1  614546_1           10       rb\n",
       "2  614546_1           18       rb\n",
       "3  614546_1           34       wr\n",
       "4  614546_1           66       wr"
      ]
     },
     "execution_count": 4,
     "metadata": {},
     "output_type": "execute_result"
    }
   ],
   "source": [
    "data = pd.read_sql(query, conn)\n",
    "data.head()"
   ]
  },
  {
   "cell_type": "markdown",
   "metadata": {},
   "source": [
    "### Re-format and filter data"
   ]
  },
  {
   "cell_type": "code",
   "execution_count": 5,
   "metadata": {},
   "outputs": [
    {
     "data": {
      "text/html": [
       "<div>\n",
       "<style scoped>\n",
       "    .dataframe tbody tr th:only-of-type {\n",
       "        vertical-align: middle;\n",
       "    }\n",
       "\n",
       "    .dataframe tbody tr th {\n",
       "        vertical-align: top;\n",
       "    }\n",
       "\n",
       "    .dataframe thead th {\n",
       "        text-align: right;\n",
       "    }\n",
       "</style>\n",
       "<table border=\"1\" class=\"dataframe\">\n",
       "  <thead>\n",
       "    <tr style=\"text-align: right;\">\n",
       "      <th>pick_number</th>\n",
       "      <th>1</th>\n",
       "      <th>2</th>\n",
       "      <th>3</th>\n",
       "      <th>4</th>\n",
       "      <th>5</th>\n",
       "      <th>6</th>\n",
       "      <th>7</th>\n",
       "      <th>8</th>\n",
       "      <th>9</th>\n",
       "      <th>10</th>\n",
       "      <th>...</th>\n",
       "      <th>411</th>\n",
       "      <th>412</th>\n",
       "      <th>413</th>\n",
       "      <th>414</th>\n",
       "      <th>415</th>\n",
       "      <th>416</th>\n",
       "      <th>417</th>\n",
       "      <th>418</th>\n",
       "      <th>419</th>\n",
       "      <th>420</th>\n",
       "    </tr>\n",
       "    <tr>\n",
       "      <th>id</th>\n",
       "      <th></th>\n",
       "      <th></th>\n",
       "      <th></th>\n",
       "      <th></th>\n",
       "      <th></th>\n",
       "      <th></th>\n",
       "      <th></th>\n",
       "      <th></th>\n",
       "      <th></th>\n",
       "      <th></th>\n",
       "      <th></th>\n",
       "      <th></th>\n",
       "      <th></th>\n",
       "      <th></th>\n",
       "      <th></th>\n",
       "      <th></th>\n",
       "      <th></th>\n",
       "      <th></th>\n",
       "      <th></th>\n",
       "      <th></th>\n",
       "      <th></th>\n",
       "    </tr>\n",
       "  </thead>\n",
       "  <tbody>\n",
       "    <tr>\n",
       "      <th>614546_1</th>\n",
       "      <td>NaN</td>\n",
       "      <td>wr</td>\n",
       "      <td>NaN</td>\n",
       "      <td>NaN</td>\n",
       "      <td>NaN</td>\n",
       "      <td>NaN</td>\n",
       "      <td>NaN</td>\n",
       "      <td>NaN</td>\n",
       "      <td>NaN</td>\n",
       "      <td>rb</td>\n",
       "      <td>...</td>\n",
       "      <td>NaN</td>\n",
       "      <td>NaN</td>\n",
       "      <td>NaN</td>\n",
       "      <td>NaN</td>\n",
       "      <td>NaN</td>\n",
       "      <td>NaN</td>\n",
       "      <td>NaN</td>\n",
       "      <td>NaN</td>\n",
       "      <td>NaN</td>\n",
       "      <td>NaN</td>\n",
       "    </tr>\n",
       "    <tr>\n",
       "      <th>614546_2</th>\n",
       "      <td>NaN</td>\n",
       "      <td>NaN</td>\n",
       "      <td>NaN</td>\n",
       "      <td>NaN</td>\n",
       "      <td>NaN</td>\n",
       "      <td>NaN</td>\n",
       "      <td>wr</td>\n",
       "      <td>NaN</td>\n",
       "      <td>NaN</td>\n",
       "      <td>NaN</td>\n",
       "      <td>...</td>\n",
       "      <td>NaN</td>\n",
       "      <td>NaN</td>\n",
       "      <td>NaN</td>\n",
       "      <td>NaN</td>\n",
       "      <td>NaN</td>\n",
       "      <td>NaN</td>\n",
       "      <td>NaN</td>\n",
       "      <td>NaN</td>\n",
       "      <td>NaN</td>\n",
       "      <td>NaN</td>\n",
       "    </tr>\n",
       "    <tr>\n",
       "      <th>614546_3</th>\n",
       "      <td>NaN</td>\n",
       "      <td>NaN</td>\n",
       "      <td>NaN</td>\n",
       "      <td>NaN</td>\n",
       "      <td>NaN</td>\n",
       "      <td>NaN</td>\n",
       "      <td>NaN</td>\n",
       "      <td>qb</td>\n",
       "      <td>NaN</td>\n",
       "      <td>NaN</td>\n",
       "      <td>...</td>\n",
       "      <td>NaN</td>\n",
       "      <td>NaN</td>\n",
       "      <td>NaN</td>\n",
       "      <td>NaN</td>\n",
       "      <td>NaN</td>\n",
       "      <td>NaN</td>\n",
       "      <td>NaN</td>\n",
       "      <td>NaN</td>\n",
       "      <td>NaN</td>\n",
       "      <td>NaN</td>\n",
       "    </tr>\n",
       "    <tr>\n",
       "      <th>614546_4</th>\n",
       "      <td>NaN</td>\n",
       "      <td>NaN</td>\n",
       "      <td>NaN</td>\n",
       "      <td>NaN</td>\n",
       "      <td>NaN</td>\n",
       "      <td>rb</td>\n",
       "      <td>NaN</td>\n",
       "      <td>NaN</td>\n",
       "      <td>NaN</td>\n",
       "      <td>NaN</td>\n",
       "      <td>...</td>\n",
       "      <td>NaN</td>\n",
       "      <td>NaN</td>\n",
       "      <td>NaN</td>\n",
       "      <td>NaN</td>\n",
       "      <td>NaN</td>\n",
       "      <td>NaN</td>\n",
       "      <td>NaN</td>\n",
       "      <td>NaN</td>\n",
       "      <td>NaN</td>\n",
       "      <td>NaN</td>\n",
       "    </tr>\n",
       "    <tr>\n",
       "      <th>614546_5</th>\n",
       "      <td>NaN</td>\n",
       "      <td>NaN</td>\n",
       "      <td>NaN</td>\n",
       "      <td>rb</td>\n",
       "      <td>NaN</td>\n",
       "      <td>NaN</td>\n",
       "      <td>NaN</td>\n",
       "      <td>NaN</td>\n",
       "      <td>NaN</td>\n",
       "      <td>NaN</td>\n",
       "      <td>...</td>\n",
       "      <td>NaN</td>\n",
       "      <td>NaN</td>\n",
       "      <td>NaN</td>\n",
       "      <td>NaN</td>\n",
       "      <td>NaN</td>\n",
       "      <td>NaN</td>\n",
       "      <td>NaN</td>\n",
       "      <td>NaN</td>\n",
       "      <td>NaN</td>\n",
       "      <td>NaN</td>\n",
       "    </tr>\n",
       "  </tbody>\n",
       "</table>\n",
       "<p>5 rows × 420 columns</p>\n",
       "</div>"
      ],
      "text/plain": [
       "pick_number  1    2    3    4    5    6    7    8    9    10  ...   411  412  \\\n",
       "id                                                            ...              \n",
       "614546_1     NaN   wr  NaN  NaN  NaN  NaN  NaN  NaN  NaN   rb ...   NaN  NaN   \n",
       "614546_2     NaN  NaN  NaN  NaN  NaN  NaN   wr  NaN  NaN  NaN ...   NaN  NaN   \n",
       "614546_3     NaN  NaN  NaN  NaN  NaN  NaN  NaN   qb  NaN  NaN ...   NaN  NaN   \n",
       "614546_4     NaN  NaN  NaN  NaN  NaN   rb  NaN  NaN  NaN  NaN ...   NaN  NaN   \n",
       "614546_5     NaN  NaN  NaN   rb  NaN  NaN  NaN  NaN  NaN  NaN ...   NaN  NaN   \n",
       "\n",
       "pick_number  413  414  415  416  417  418  419  420  \n",
       "id                                                   \n",
       "614546_1     NaN  NaN  NaN  NaN  NaN  NaN  NaN  NaN  \n",
       "614546_2     NaN  NaN  NaN  NaN  NaN  NaN  NaN  NaN  \n",
       "614546_3     NaN  NaN  NaN  NaN  NaN  NaN  NaN  NaN  \n",
       "614546_4     NaN  NaN  NaN  NaN  NaN  NaN  NaN  NaN  \n",
       "614546_5     NaN  NaN  NaN  NaN  NaN  NaN  NaN  NaN  \n",
       "\n",
       "[5 rows x 420 columns]"
      ]
     },
     "execution_count": 5,
     "metadata": {},
     "output_type": "execute_result"
    }
   ],
   "source": [
    "data = data.pivot(columns='pick_number', values='position',index='id')\n",
    "data.head()"
   ]
  },
  {
   "cell_type": "code",
   "execution_count": 6,
   "metadata": {},
   "outputs": [],
   "source": [
    "pick_dist = []\n",
    "def num_picks(row):\n",
    "    pick_dist.append(row.count())\n",
    "\n",
    "data.apply(lambda row: num_picks(row),axis=1);"
   ]
  },
  {
   "cell_type": "code",
   "execution_count": 7,
   "metadata": {},
   "outputs": [
    {
     "name": "stderr",
     "output_type": "stream",
     "text": [
      "/Users/jsage/miniconda3/envs/DataAnalysis/lib/python3.7/site-packages/scipy/stats/stats.py:1713: FutureWarning: Using a non-tuple sequence for multidimensional indexing is deprecated; use `arr[tuple(seq)]` instead of `arr[seq]`. In the future this will be interpreted as an array index, `arr[np.array(seq)]`, which will result either in an error or a different result.\n",
      "  return np.add.reduce(sorted[indexer] * weights, axis=axis) / sumval\n"
     ]
    },
    {
     "data": {
      "text/plain": [
       "<matplotlib.axes._subplots.AxesSubplot at 0x1a1cc02748>"
      ]
     },
     "execution_count": 7,
     "metadata": {},
     "output_type": "execute_result"
    },
    {
     "data": {
      "image/png": "[encoded data removed]",
      "text/plain": [
       "<Figure size 432x288 with 1 Axes>"
      ]
     },
     "metadata": {},
     "output_type": "display_data"
    }
   ],
   "source": [
    "sns.distplot(pick_dist)"
   ]
  },
  {
   "cell_type": "code",
   "execution_count": 8,
   "metadata": {},
   "outputs": [
    {
     "data": {
      "text/plain": [
       "16    19687\n",
       "15     2490\n",
       "17     2319\n",
       "14     1669\n",
       "18      994\n",
       "dtype: int64"
      ]
     },
     "execution_count": 8,
     "metadata": {},
     "output_type": "execute_result"
    }
   ],
   "source": [
    "pd.Series(pick_dist).value_counts().head()"
   ]
  },
  {
   "cell_type": "markdown",
   "metadata": {},
   "source": [
    "Clearly the vast majority of leagues have 16 player rosters. For simplicity I will only consider these leagues in my analysis."
   ]
  },
  {
   "cell_type": "code",
   "execution_count": 9,
   "metadata": {},
   "outputs": [],
   "source": [
    "def picks_filter(row, minimum, maximum):\n",
    "    if row.count() >= minimum and row.count() <= maximum:\n",
    "        return True\n",
    "    else:\n",
    "        return False"
   ]
  },
  {
   "cell_type": "code",
   "execution_count": 10,
   "metadata": {},
   "outputs": [],
   "source": [
    "minimum = 16\n",
    "maximum = 16\n",
    "data['include'] = data.apply(lambda row: picks_filter(row, minimum, maximum),axis=1)"
   ]
  },
  {
   "cell_type": "code",
   "execution_count": 11,
   "metadata": {},
   "outputs": [],
   "source": [
    "data = data[data.include]\n",
    "data = data.drop('include',axis=1)"
   ]
  },
  {
   "cell_type": "code",
   "execution_count": 12,
   "metadata": {},
   "outputs": [],
   "source": [
    "col_names = ['round_'+ str(x) for x in range(1,maximum+1)]\n",
    "def arrange_by_pick(row):\n",
    "    picks = row.dropna()\n",
    "    picks.index = col_names\n",
    "    return picks"
   ]
  },
  {
   "cell_type": "code",
   "execution_count": 13,
   "metadata": {
    "scrolled": true
   },
   "outputs": [],
   "source": [
    "data = data.apply(lambda row: arrange_by_pick(row), axis=1)"
   ]
  },
  {
   "cell_type": "markdown",
   "metadata": {},
   "source": [
    "### Retrieve league data to filter out defensive leagues\n",
    "A minority of fantasy leagues in this dataset contain at least one Independent Defensive Player (IDP) on their roster. Because these leagues are not very common, I will exclude them from my analysis."
   ]
  },
  {
   "cell_type": "code",
   "execution_count": 14,
   "metadata": {},
   "outputs": [],
   "source": [
    "query_lg = \"SELECT * FROM Draft2017.FantasyLeague lg WHERE lg.ppr_points = 0;\""
   ]
  },
  {
   "cell_type": "code",
   "execution_count": 15,
   "metadata": {},
   "outputs": [],
   "source": [
    "lg_data = pd.read_sql(query_lg, conn, index_col='league_id')"
   ]
  },
  {
   "cell_type": "code",
   "execution_count": 16,
   "metadata": {},
   "outputs": [
    {
     "data": {
      "text/plain": [
       "Index(['league_name', 'year', 'draft_type', 'num_teams', 'scoring_type',\n",
       "       'roster_size', 'num_starters', 'num_bench', 'ppr_points', 'keepers',\n",
       "       'num_rostered_qb', 'num_rostered_rb', 'num_rostered_rb_wr',\n",
       "       'num_rostered_wr', 'num_rostered_te', 'num_rostered_d_st',\n",
       "       'num_rostered_k', 'num_rostered_be', 'num_rostered_rb_wr_te',\n",
       "       'num_rostered_ir', 'num_rostered_wr_te', 'num_rostered_dt',\n",
       "       'num_rostered_de', 'num_rostered_lb', 'num_rostered_edr',\n",
       "       'num_rostered_cb', 'num_rostered_s', 'num_rostered_dp',\n",
       "       'num_rostered_p', 'num_rostered_hc', 'num_rostered_op',\n",
       "       'num_rostered_dl', 'num_rostered_db'],\n",
       "      dtype='object')"
      ]
     },
     "execution_count": 16,
     "metadata": {},
     "output_type": "execute_result"
    }
   ],
   "source": [
    "lg_data.columns"
   ]
  },
  {
   "cell_type": "code",
   "execution_count": 17,
   "metadata": {},
   "outputs": [],
   "source": [
    "def check_defensive(row):\n",
    "    defensive_pos = ['dt', 'de', 'lb', 'edr', 'cb', 's', 'dp', 'p', 'hc', 'dl', 'db']\n",
    "    for pos in defensive_pos:\n",
    "        if row['num_rostered_' + pos] > 0:\n",
    "            return True\n",
    "    return False"
   ]
  },
  {
   "cell_type": "code",
   "execution_count": 18,
   "metadata": {},
   "outputs": [],
   "source": [
    "lg_data['defensive_pos'] = lg_data.apply(lambda row: check_defensive(row),axis=1)"
   ]
  },
  {
   "cell_type": "code",
   "execution_count": 19,
   "metadata": {},
   "outputs": [],
   "source": [
    "data = data[~data.apply(lambda row: lg_data.loc[int(row.name.split('_')[0])].defensive_pos, axis=1)]"
   ]
  },
  {
   "cell_type": "markdown",
   "metadata": {},
   "source": [
    "### Add preformance data to draft data\n",
    "To learn how different drafting strategies impact fantasy team preformance, we need a quantitative measure of each fantasy team's success. One choice for such a metric would be percentage of matchups won, but because winning percentage is also impacted by the strength of matchup opponents I will instead use total points scored. Because scoring formats vary from league to league, I will convert the points scored by each team to the number of standard deviations away from the mean number of points scored in their league. In essence, this number reflects a fantasy football team's preformance relative to the other teams in their league."
   ]
  },
  {
   "cell_type": "code",
   "execution_count": 20,
   "metadata": {},
   "outputs": [],
   "source": [
    "query_pts = \"SELECT owner.league_id || '_' || owner.owner_id id, owner.pts_scored \\\n",
    "                FROM Draft2017.FantasyOwner owner NATURAL JOIN Draft2017.FantasyLeague lg \\\n",
    "                WHERE lg.ppr_points = 0;\""
   ]
  },
  {
   "cell_type": "code",
   "execution_count": 21,
   "metadata": {},
   "outputs": [],
   "source": [
    "pts_data = pd.read_sql(query_pts, conn, index_col='id')"
   ]
  },
  {
   "cell_type": "code",
   "execution_count": 22,
   "metadata": {},
   "outputs": [
    {
     "data": {
      "text/html": [
       "<div>\n",
       "<style scoped>\n",
       "    .dataframe tbody tr th:only-of-type {\n",
       "        vertical-align: middle;\n",
       "    }\n",
       "\n",
       "    .dataframe tbody tr th {\n",
       "        vertical-align: top;\n",
       "    }\n",
       "\n",
       "    .dataframe thead th {\n",
       "        text-align: right;\n",
       "    }\n",
       "</style>\n",
       "<table border=\"1\" class=\"dataframe\">\n",
       "  <thead>\n",
       "    <tr style=\"text-align: right;\">\n",
       "      <th></th>\n",
       "      <th>pts_scored</th>\n",
       "    </tr>\n",
       "    <tr>\n",
       "      <th>id</th>\n",
       "      <th></th>\n",
       "    </tr>\n",
       "  </thead>\n",
       "  <tbody>\n",
       "    <tr>\n",
       "      <th>614546_2</th>\n",
       "      <td>1565</td>\n",
       "    </tr>\n",
       "    <tr>\n",
       "      <th>614546_7</th>\n",
       "      <td>1483</td>\n",
       "    </tr>\n",
       "    <tr>\n",
       "      <th>614546_1</th>\n",
       "      <td>1457</td>\n",
       "    </tr>\n",
       "    <tr>\n",
       "      <th>614546_3</th>\n",
       "      <td>1314</td>\n",
       "    </tr>\n",
       "    <tr>\n",
       "      <th>614546_4</th>\n",
       "      <td>1381</td>\n",
       "    </tr>\n",
       "  </tbody>\n",
       "</table>\n",
       "</div>"
      ],
      "text/plain": [
       "          pts_scored\n",
       "id                  \n",
       "614546_2        1565\n",
       "614546_7        1483\n",
       "614546_1        1457\n",
       "614546_3        1314\n",
       "614546_4        1381"
      ]
     },
     "execution_count": 22,
     "metadata": {},
     "output_type": "execute_result"
    }
   ],
   "source": [
    "pts_data.head()"
   ]
  },
  {
   "cell_type": "code",
   "execution_count": 23,
   "metadata": {},
   "outputs": [],
   "source": [
    "pts_data['league_id'] = pts_data.apply(lambda row: row.name.split('_')[0], axis=1)\n",
    "pts_data['team_id'] = pts_data.apply(lambda row: row.name.split('_')[1], axis=1)\n",
    "pts_data['relative_preformance'] = pts_data.groupby(['league_id']).pts_scored.apply(lambda p: (p - np.mean(p)) / np.std(p))"
   ]
  },
  {
   "cell_type": "code",
   "execution_count": 24,
   "metadata": {},
   "outputs": [],
   "source": [
    "data['relative_preformance'] = pts_data['relative_preformance']"
   ]
  },
  {
   "cell_type": "code",
   "execution_count": 25,
   "metadata": {
    "scrolled": false
   },
   "outputs": [
    {
     "data": {
      "text/html": [
       "<div>\n",
       "<style scoped>\n",
       "    .dataframe tbody tr th:only-of-type {\n",
       "        vertical-align: middle;\n",
       "    }\n",
       "\n",
       "    .dataframe tbody tr th {\n",
       "        vertical-align: top;\n",
       "    }\n",
       "\n",
       "    .dataframe thead th {\n",
       "        text-align: right;\n",
       "    }\n",
       "</style>\n",
       "<table border=\"1\" class=\"dataframe\">\n",
       "  <thead>\n",
       "    <tr style=\"text-align: right;\">\n",
       "      <th></th>\n",
       "      <th>round_1</th>\n",
       "      <th>round_2</th>\n",
       "      <th>round_3</th>\n",
       "      <th>round_4</th>\n",
       "      <th>round_5</th>\n",
       "      <th>round_6</th>\n",
       "      <th>round_7</th>\n",
       "      <th>round_8</th>\n",
       "      <th>round_9</th>\n",
       "      <th>round_10</th>\n",
       "      <th>round_11</th>\n",
       "      <th>round_12</th>\n",
       "      <th>round_13</th>\n",
       "      <th>round_14</th>\n",
       "      <th>round_15</th>\n",
       "      <th>round_16</th>\n",
       "      <th>relative_preformance</th>\n",
       "    </tr>\n",
       "    <tr>\n",
       "      <th>id</th>\n",
       "      <th></th>\n",
       "      <th></th>\n",
       "      <th></th>\n",
       "      <th></th>\n",
       "      <th></th>\n",
       "      <th></th>\n",
       "      <th></th>\n",
       "      <th></th>\n",
       "      <th></th>\n",
       "      <th></th>\n",
       "      <th></th>\n",
       "      <th></th>\n",
       "      <th></th>\n",
       "      <th></th>\n",
       "      <th></th>\n",
       "      <th></th>\n",
       "      <th></th>\n",
       "    </tr>\n",
       "  </thead>\n",
       "  <tbody>\n",
       "    <tr>\n",
       "      <th>614588_1</th>\n",
       "      <td>rb</td>\n",
       "      <td>te</td>\n",
       "      <td>qb</td>\n",
       "      <td>wr</td>\n",
       "      <td>wr</td>\n",
       "      <td>rb</td>\n",
       "      <td>wr</td>\n",
       "      <td>wr</td>\n",
       "      <td>rb</td>\n",
       "      <td>rb</td>\n",
       "      <td>d_st</td>\n",
       "      <td>qb</td>\n",
       "      <td>te</td>\n",
       "      <td>rb</td>\n",
       "      <td>k</td>\n",
       "      <td>d_st</td>\n",
       "      <td>0.234706</td>\n",
       "    </tr>\n",
       "    <tr>\n",
       "      <th>614588_13</th>\n",
       "      <td>rb</td>\n",
       "      <td>qb</td>\n",
       "      <td>rb</td>\n",
       "      <td>wr</td>\n",
       "      <td>rb</td>\n",
       "      <td>wr</td>\n",
       "      <td>te</td>\n",
       "      <td>wr</td>\n",
       "      <td>rb</td>\n",
       "      <td>wr</td>\n",
       "      <td>wr</td>\n",
       "      <td>rb</td>\n",
       "      <td>wr</td>\n",
       "      <td>d_st</td>\n",
       "      <td>k</td>\n",
       "      <td>d_st</td>\n",
       "      <td>1.987314</td>\n",
       "    </tr>\n",
       "    <tr>\n",
       "      <th>614588_14</th>\n",
       "      <td>wr</td>\n",
       "      <td>rb</td>\n",
       "      <td>wr</td>\n",
       "      <td>rb</td>\n",
       "      <td>qb</td>\n",
       "      <td>wr</td>\n",
       "      <td>rb</td>\n",
       "      <td>wr</td>\n",
       "      <td>te</td>\n",
       "      <td>qb</td>\n",
       "      <td>wr</td>\n",
       "      <td>rb</td>\n",
       "      <td>d_st</td>\n",
       "      <td>k</td>\n",
       "      <td>rb</td>\n",
       "      <td>rb</td>\n",
       "      <td>-0.872204</td>\n",
       "    </tr>\n",
       "    <tr>\n",
       "      <th>614588_21</th>\n",
       "      <td>wr</td>\n",
       "      <td>rb</td>\n",
       "      <td>rb</td>\n",
       "      <td>qb</td>\n",
       "      <td>wr</td>\n",
       "      <td>rb</td>\n",
       "      <td>k</td>\n",
       "      <td>rb</td>\n",
       "      <td>rb</td>\n",
       "      <td>wr</td>\n",
       "      <td>d_st</td>\n",
       "      <td>te</td>\n",
       "      <td>qb</td>\n",
       "      <td>rb</td>\n",
       "      <td>wr</td>\n",
       "      <td>wr</td>\n",
       "      <td>1.341616</td>\n",
       "    </tr>\n",
       "    <tr>\n",
       "      <th>614588_22</th>\n",
       "      <td>wr</td>\n",
       "      <td>wr</td>\n",
       "      <td>wr</td>\n",
       "      <td>wr</td>\n",
       "      <td>rb</td>\n",
       "      <td>te</td>\n",
       "      <td>rb</td>\n",
       "      <td>rb</td>\n",
       "      <td>wr</td>\n",
       "      <td>rb</td>\n",
       "      <td>rb</td>\n",
       "      <td>qb</td>\n",
       "      <td>rb</td>\n",
       "      <td>k</td>\n",
       "      <td>wr</td>\n",
       "      <td>d_st</td>\n",
       "      <td>-0.626224</td>\n",
       "    </tr>\n",
       "  </tbody>\n",
       "</table>\n",
       "</div>"
      ],
      "text/plain": [
       "          round_1 round_2 round_3 round_4 round_5 round_6 round_7 round_8  \\\n",
       "id                                                                          \n",
       "614588_1       rb      te      qb      wr      wr      rb      wr      wr   \n",
       "614588_13      rb      qb      rb      wr      rb      wr      te      wr   \n",
       "614588_14      wr      rb      wr      rb      qb      wr      rb      wr   \n",
       "614588_21      wr      rb      rb      qb      wr      rb       k      rb   \n",
       "614588_22      wr      wr      wr      wr      rb      te      rb      rb   \n",
       "\n",
       "          round_9 round_10 round_11 round_12 round_13 round_14 round_15  \\\n",
       "id                                                                        \n",
       "614588_1       rb       rb     d_st       qb       te       rb        k   \n",
       "614588_13      rb       wr       wr       rb       wr     d_st        k   \n",
       "614588_14      te       qb       wr       rb     d_st        k       rb   \n",
       "614588_21      rb       wr     d_st       te       qb       rb       wr   \n",
       "614588_22      wr       rb       rb       qb       rb        k       wr   \n",
       "\n",
       "          round_16  relative_preformance  \n",
       "id                                        \n",
       "614588_1      d_st              0.234706  \n",
       "614588_13     d_st              1.987314  \n",
       "614588_14       rb             -0.872204  \n",
       "614588_21       wr              1.341616  \n",
       "614588_22     d_st             -0.626224  "
      ]
     },
     "execution_count": 25,
     "metadata": {},
     "output_type": "execute_result"
    }
   ],
   "source": [
    "data.head()"
   ]
  },
  {
   "cell_type": "markdown",
   "metadata": {},
   "source": [
    "## Model Building"
   ]
  },
  {
   "cell_type": "code",
   "execution_count": 26,
   "metadata": {},
   "outputs": [],
   "source": [
    "import statsmodels.api as sm\n",
    "from patsy import dmatrices"
   ]
  },
  {
   "cell_type": "markdown",
   "metadata": {},
   "source": [
    "### Build Design Matricies"
   ]
  },
  {
   "cell_type": "code",
   "execution_count": 27,
   "metadata": {},
   "outputs": [],
   "source": [
    "feature_str = \"C({0},Treatment(reference='rb'))\"\n",
    "design_str = 'relative_preformance ~ ' + ' + '.join([feature_str.format(x) for x in data.columns[:-1]])"
   ]
  },
  {
   "cell_type": "code",
   "execution_count": 28,
   "metadata": {
    "scrolled": true
   },
   "outputs": [],
   "source": [
    "y_lm, X_lm = dmatrices(data=data, formula_like=design_str)"
   ]
  },
  {
   "cell_type": "markdown",
   "metadata": {},
   "source": [
    "### Linear Model"
   ]
  },
  {
   "cell_type": "code",
   "execution_count": 29,
   "metadata": {},
   "outputs": [],
   "source": [
    "lm = sm.OLS(y_lm, X_lm)\n",
    "lm_results = lm.fit()"
   ]
  },
  {
   "cell_type": "code",
   "execution_count": 30,
   "metadata": {
    "scrolled": true
   },
   "outputs": [],
   "source": [
    "results = pd.DataFrame({'param_name':lm.exog_names,'coeff':lm_results.params, 'pvalue':lm_results.pvalues})"
   ]
  },
  {
   "cell_type": "code",
   "execution_count": 31,
   "metadata": {},
   "outputs": [
    {
     "data": {
      "text/html": [
       "<div>\n",
       "<style scoped>\n",
       "    .dataframe tbody tr th:only-of-type {\n",
       "        vertical-align: middle;\n",
       "    }\n",
       "\n",
       "    .dataframe tbody tr th {\n",
       "        vertical-align: top;\n",
       "    }\n",
       "\n",
       "    .dataframe thead th {\n",
       "        text-align: right;\n",
       "    }\n",
       "</style>\n",
       "<table border=\"1\" class=\"dataframe\">\n",
       "  <thead>\n",
       "    <tr style=\"text-align: right;\">\n",
       "      <th></th>\n",
       "      <th>param_name</th>\n",
       "      <th>coeff</th>\n",
       "      <th>pvalue</th>\n",
       "    </tr>\n",
       "  </thead>\n",
       "  <tbody>\n",
       "    <tr>\n",
       "      <th>10</th>\n",
       "      <td>C(round_2, Treatment(reference='rb'))[T.wr]</td>\n",
       "      <td>-0.436606</td>\n",
       "      <td>3.946933e-133</td>\n",
       "    </tr>\n",
       "    <tr>\n",
       "      <th>15</th>\n",
       "      <td>C(round_3, Treatment(reference='rb'))[T.wr]</td>\n",
       "      <td>-0.416766</td>\n",
       "      <td>1.146870e-118</td>\n",
       "    </tr>\n",
       "    <tr>\n",
       "      <th>1</th>\n",
       "      <td>C(round_1, Treatment(reference='rb'))[T.d_st]</td>\n",
       "      <td>-0.379041</td>\n",
       "      <td>3.689296e-02</td>\n",
       "    </tr>\n",
       "    <tr>\n",
       "      <th>8</th>\n",
       "      <td>C(round_2, Treatment(reference='rb'))[T.qb]</td>\n",
       "      <td>-0.366213</td>\n",
       "      <td>6.891177e-34</td>\n",
       "    </tr>\n",
       "    <tr>\n",
       "      <th>3</th>\n",
       "      <td>C(round_1, Treatment(reference='rb'))[T.qb]</td>\n",
       "      <td>-0.356411</td>\n",
       "      <td>8.264735e-29</td>\n",
       "    </tr>\n",
       "    <tr>\n",
       "      <th>22</th>\n",
       "      <td>C(round_5, Treatment(reference='rb'))[T.k]</td>\n",
       "      <td>-0.338602</td>\n",
       "      <td>9.998769e-04</td>\n",
       "    </tr>\n",
       "    <tr>\n",
       "      <th>13</th>\n",
       "      <td>C(round_3, Treatment(reference='rb'))[T.qb]</td>\n",
       "      <td>-0.310005</td>\n",
       "      <td>3.009370e-27</td>\n",
       "    </tr>\n",
       "    <tr>\n",
       "      <th>6</th>\n",
       "      <td>C(round_2, Treatment(reference='rb'))[T.d_st]</td>\n",
       "      <td>-0.286627</td>\n",
       "      <td>2.809024e-02</td>\n",
       "    </tr>\n",
       "    <tr>\n",
       "      <th>11</th>\n",
       "      <td>C(round_3, Treatment(reference='rb'))[T.d_st]</td>\n",
       "      <td>-0.243564</td>\n",
       "      <td>1.925128e-02</td>\n",
       "    </tr>\n",
       "    <tr>\n",
       "      <th>27</th>\n",
       "      <td>C(round_6, Treatment(reference='rb'))[T.k]</td>\n",
       "      <td>-0.239578</td>\n",
       "      <td>2.223956e-03</td>\n",
       "    </tr>\n",
       "    <tr>\n",
       "      <th>16</th>\n",
       "      <td>C(round_4, Treatment(reference='rb'))[T.d_st]</td>\n",
       "      <td>-0.233258</td>\n",
       "      <td>2.996556e-03</td>\n",
       "    </tr>\n",
       "    <tr>\n",
       "      <th>4</th>\n",
       "      <td>C(round_1, Treatment(reference='rb'))[T.te]</td>\n",
       "      <td>-0.231487</td>\n",
       "      <td>3.598493e-03</td>\n",
       "    </tr>\n",
       "    <tr>\n",
       "      <th>5</th>\n",
       "      <td>C(round_1, Treatment(reference='rb'))[T.wr]</td>\n",
       "      <td>-0.224306</td>\n",
       "      <td>9.678330e-38</td>\n",
       "    </tr>\n",
       "    <tr>\n",
       "      <th>20</th>\n",
       "      <td>C(round_4, Treatment(reference='rb'))[T.wr]</td>\n",
       "      <td>-0.203857</td>\n",
       "      <td>1.975851e-27</td>\n",
       "    </tr>\n",
       "    <tr>\n",
       "      <th>25</th>\n",
       "      <td>C(round_5, Treatment(reference='rb'))[T.wr]</td>\n",
       "      <td>-0.159500</td>\n",
       "      <td>4.592591e-16</td>\n",
       "    </tr>\n",
       "    <tr>\n",
       "      <th>30</th>\n",
       "      <td>C(round_6, Treatment(reference='rb'))[T.wr]</td>\n",
       "      <td>-0.144038</td>\n",
       "      <td>8.349536e-15</td>\n",
       "    </tr>\n",
       "    <tr>\n",
       "      <th>19</th>\n",
       "      <td>C(round_4, Treatment(reference='rb'))[T.te]</td>\n",
       "      <td>-0.142229</td>\n",
       "      <td>2.261155e-06</td>\n",
       "    </tr>\n",
       "    <tr>\n",
       "      <th>26</th>\n",
       "      <td>C(round_6, Treatment(reference='rb'))[T.d_st]</td>\n",
       "      <td>-0.137786</td>\n",
       "      <td>1.141561e-02</td>\n",
       "    </tr>\n",
       "    <tr>\n",
       "      <th>35</th>\n",
       "      <td>C(round_7, Treatment(reference='rb'))[T.wr]</td>\n",
       "      <td>-0.129073</td>\n",
       "      <td>2.239706e-13</td>\n",
       "    </tr>\n",
       "    <tr>\n",
       "      <th>18</th>\n",
       "      <td>C(round_4, Treatment(reference='rb'))[T.qb]</td>\n",
       "      <td>-0.116808</td>\n",
       "      <td>4.674534e-05</td>\n",
       "    </tr>\n",
       "    <tr>\n",
       "      <th>40</th>\n",
       "      <td>C(round_8, Treatment(reference='rb'))[T.wr]</td>\n",
       "      <td>-0.113942</td>\n",
       "      <td>1.725711e-10</td>\n",
       "    </tr>\n",
       "    <tr>\n",
       "      <th>14</th>\n",
       "      <td>C(round_3, Treatment(reference='rb'))[T.te]</td>\n",
       "      <td>-0.099176</td>\n",
       "      <td>3.906824e-03</td>\n",
       "    </tr>\n",
       "    <tr>\n",
       "      <th>29</th>\n",
       "      <td>C(round_6, Treatment(reference='rb'))[T.te]</td>\n",
       "      <td>-0.097000</td>\n",
       "      <td>4.711076e-04</td>\n",
       "    </tr>\n",
       "    <tr>\n",
       "      <th>45</th>\n",
       "      <td>C(round_9, Treatment(reference='rb'))[T.wr]</td>\n",
       "      <td>-0.091482</td>\n",
       "      <td>3.615302e-07</td>\n",
       "    </tr>\n",
       "    <tr>\n",
       "      <th>67</th>\n",
       "      <td>C(round_14, Treatment(reference='rb'))[T.k]</td>\n",
       "      <td>-0.086912</td>\n",
       "      <td>7.593605e-03</td>\n",
       "    </tr>\n",
       "    <tr>\n",
       "      <th>31</th>\n",
       "      <td>C(round_7, Treatment(reference='rb'))[T.d_st]</td>\n",
       "      <td>-0.085821</td>\n",
       "      <td>4.175754e-02</td>\n",
       "    </tr>\n",
       "    <tr>\n",
       "      <th>77</th>\n",
       "      <td>C(round_16, Treatment(reference='rb'))[T.k]</td>\n",
       "      <td>-0.077524</td>\n",
       "      <td>1.394129e-02</td>\n",
       "    </tr>\n",
       "    <tr>\n",
       "      <th>72</th>\n",
       "      <td>C(round_15, Treatment(reference='rb'))[T.k]</td>\n",
       "      <td>-0.074449</td>\n",
       "      <td>2.017129e-02</td>\n",
       "    </tr>\n",
       "    <tr>\n",
       "      <th>50</th>\n",
       "      <td>C(round_10, Treatment(reference='rb'))[T.wr]</td>\n",
       "      <td>-0.072208</td>\n",
       "      <td>6.124235e-05</td>\n",
       "    </tr>\n",
       "    <tr>\n",
       "      <th>23</th>\n",
       "      <td>C(round_5, Treatment(reference='rb'))[T.qb]</td>\n",
       "      <td>-0.066061</td>\n",
       "      <td>2.244182e-02</td>\n",
       "    </tr>\n",
       "    <tr>\n",
       "      <th>70</th>\n",
       "      <td>C(round_14, Treatment(reference='rb'))[T.wr]</td>\n",
       "      <td>-0.063613</td>\n",
       "      <td>1.747120e-03</td>\n",
       "    </tr>\n",
       "    <tr>\n",
       "      <th>39</th>\n",
       "      <td>C(round_8, Treatment(reference='rb'))[T.te]</td>\n",
       "      <td>-0.061302</td>\n",
       "      <td>3.239295e-02</td>\n",
       "    </tr>\n",
       "    <tr>\n",
       "      <th>24</th>\n",
       "      <td>C(round_5, Treatment(reference='rb'))[T.te]</td>\n",
       "      <td>-0.060570</td>\n",
       "      <td>2.570023e-02</td>\n",
       "    </tr>\n",
       "    <tr>\n",
       "      <th>55</th>\n",
       "      <td>C(round_11, Treatment(reference='rb'))[T.wr]</td>\n",
       "      <td>-0.060281</td>\n",
       "      <td>9.711075e-04</td>\n",
       "    </tr>\n",
       "    <tr>\n",
       "      <th>48</th>\n",
       "      <td>C(round_10, Treatment(reference='rb'))[T.qb]</td>\n",
       "      <td>0.053745</td>\n",
       "      <td>3.476618e-02</td>\n",
       "    </tr>\n",
       "    <tr>\n",
       "      <th>53</th>\n",
       "      <td>C(round_11, Treatment(reference='rb'))[T.qb]</td>\n",
       "      <td>0.054858</td>\n",
       "      <td>3.129197e-02</td>\n",
       "    </tr>\n",
       "    <tr>\n",
       "      <th>66</th>\n",
       "      <td>C(round_14, Treatment(reference='rb'))[T.d_st]</td>\n",
       "      <td>0.067512</td>\n",
       "      <td>2.204301e-02</td>\n",
       "    </tr>\n",
       "    <tr>\n",
       "      <th>43</th>\n",
       "      <td>C(round_9, Treatment(reference='rb'))[T.qb]</td>\n",
       "      <td>0.078934</td>\n",
       "      <td>2.373379e-03</td>\n",
       "    </tr>\n",
       "    <tr>\n",
       "      <th>63</th>\n",
       "      <td>C(round_13, Treatment(reference='rb'))[T.qb]</td>\n",
       "      <td>0.081745</td>\n",
       "      <td>1.865300e-03</td>\n",
       "    </tr>\n",
       "  </tbody>\n",
       "</table>\n",
       "</div>"
      ],
      "text/plain": [
       "                                        param_name     coeff         pvalue\n",
       "10     C(round_2, Treatment(reference='rb'))[T.wr] -0.436606  3.946933e-133\n",
       "15     C(round_3, Treatment(reference='rb'))[T.wr] -0.416766  1.146870e-118\n",
       "1    C(round_1, Treatment(reference='rb'))[T.d_st] -0.379041   3.689296e-02\n",
       "8      C(round_2, Treatment(reference='rb'))[T.qb] -0.366213   6.891177e-34\n",
       "3      C(round_1, Treatment(reference='rb'))[T.qb] -0.356411   8.264735e-29\n",
       "22      C(round_5, Treatment(reference='rb'))[T.k] -0.338602   9.998769e-04\n",
       "13     C(round_3, Treatment(reference='rb'))[T.qb] -0.310005   3.009370e-27\n",
       "6    C(round_2, Treatment(reference='rb'))[T.d_st] -0.286627   2.809024e-02\n",
       "11   C(round_3, Treatment(reference='rb'))[T.d_st] -0.243564   1.925128e-02\n",
       "27      C(round_6, Treatment(reference='rb'))[T.k] -0.239578   2.223956e-03\n",
       "16   C(round_4, Treatment(reference='rb'))[T.d_st] -0.233258   2.996556e-03\n",
       "4      C(round_1, Treatment(reference='rb'))[T.te] -0.231487   3.598493e-03\n",
       "5      C(round_1, Treatment(reference='rb'))[T.wr] -0.224306   9.678330e-38\n",
       "20     C(round_4, Treatment(reference='rb'))[T.wr] -0.203857   1.975851e-27\n",
       "25     C(round_5, Treatment(reference='rb'))[T.wr] -0.159500   4.592591e-16\n",
       "30     C(round_6, Treatment(reference='rb'))[T.wr] -0.144038   8.349536e-15\n",
       "19     C(round_4, Treatment(reference='rb'))[T.te] -0.142229   2.261155e-06\n",
       "26   C(round_6, Treatment(reference='rb'))[T.d_st] -0.137786   1.141561e-02\n",
       "35     C(round_7, Treatment(reference='rb'))[T.wr] -0.129073   2.239706e-13\n",
       "18     C(round_4, Treatment(reference='rb'))[T.qb] -0.116808   4.674534e-05\n",
       "40     C(round_8, Treatment(reference='rb'))[T.wr] -0.113942   1.725711e-10\n",
       "14     C(round_3, Treatment(reference='rb'))[T.te] -0.099176   3.906824e-03\n",
       "29     C(round_6, Treatment(reference='rb'))[T.te] -0.097000   4.711076e-04\n",
       "45     C(round_9, Treatment(reference='rb'))[T.wr] -0.091482   3.615302e-07\n",
       "67     C(round_14, Treatment(reference='rb'))[T.k] -0.086912   7.593605e-03\n",
       "31   C(round_7, Treatment(reference='rb'))[T.d_st] -0.085821   4.175754e-02\n",
       "77     C(round_16, Treatment(reference='rb'))[T.k] -0.077524   1.394129e-02\n",
       "72     C(round_15, Treatment(reference='rb'))[T.k] -0.074449   2.017129e-02\n",
       "50    C(round_10, Treatment(reference='rb'))[T.wr] -0.072208   6.124235e-05\n",
       "23     C(round_5, Treatment(reference='rb'))[T.qb] -0.066061   2.244182e-02\n",
       "70    C(round_14, Treatment(reference='rb'))[T.wr] -0.063613   1.747120e-03\n",
       "39     C(round_8, Treatment(reference='rb'))[T.te] -0.061302   3.239295e-02\n",
       "24     C(round_5, Treatment(reference='rb'))[T.te] -0.060570   2.570023e-02\n",
       "55    C(round_11, Treatment(reference='rb'))[T.wr] -0.060281   9.711075e-04\n",
       "48    C(round_10, Treatment(reference='rb'))[T.qb]  0.053745   3.476618e-02\n",
       "53    C(round_11, Treatment(reference='rb'))[T.qb]  0.054858   3.129197e-02\n",
       "66  C(round_14, Treatment(reference='rb'))[T.d_st]  0.067512   2.204301e-02\n",
       "43     C(round_9, Treatment(reference='rb'))[T.qb]  0.078934   2.373379e-03\n",
       "63    C(round_13, Treatment(reference='rb'))[T.qb]  0.081745   1.865300e-03"
      ]
     },
     "execution_count": 31,
     "metadata": {},
     "output_type": "execute_result"
    }
   ],
   "source": [
    "results[(results.pvalue<=0.05) & (results.param_name!='Intercept')].sort_values('coeff')"
   ]
  },
  {
   "cell_type": "markdown",
   "metadata": {},
   "source": [
    "### Interpretation"
   ]
  },
  {
   "cell_type": "markdown",
   "metadata": {},
   "source": [
    "The coeficients in this model can be interpreted as the impact on 'relative_preformance' of drafting the position in brackets compared to drafting a running back ('rb') in a given round. For example, the coefficient with name \"C(round_2, Treatment(reference='rb'))[T.wr]\" and value -0.437 means that the model predicts a team that drafts a wide reciever in the 2nd round will end the season with almost half (0.437) of a standard deviation fewer points scored than the same team who drafted a runnning back in the same round."
   ]
  },
  {
   "cell_type": "markdown",
   "metadata": {},
   "source": [
    "### Limitations\n",
    "\n",
    "- Does not consider league context (ie. when other quartebacks were drafted in a league)\n",
    "- Does not consider team context (ie. how many running backs a team has already drafted)\n",
    "- Highly dependent on individual player preformances in the given year"
   ]
  },
  {
   "cell_type": "markdown",
   "metadata": {},
   "source": [
    "### Improvements\n",
    "\n",
    "- Add league size to model / only use 10 team leagues\n",
    "- Include individual players in models\n",
    "    - Would likely need significantly more data for this to avoid overfitting\n",
    "- Scrape/include other years drafting data as well"
   ]
  },
  {
   "cell_type": "markdown",
   "metadata": {},
   "source": [
    "### Conclusions\n",
    "Ultimately the results of this model do not provide any earth-shattering findings about fantasy football draft strategy. The inherent variability of individual player performances during a given season is by far the most important factor in determining relative team performance. In order to infer meaningful insights into positional drafting strategies, the model would need to account for individual player preformances and/or be fitted on data from many seasons. However, this modeling excercise was a very useful jumping off point for more in-depth analysis."
   ]
  }
 ],
 "metadata": {
  "kernelspec": {
   "display_name": "Python [conda env:DataAnalysis]",
   "language": "python",
   "name": "conda-env-DataAnalysis-py"
  },
  "language_info": {
   "codemirror_mode": {
    "name": "ipython",
    "version": 3
   },
   "file_extension": ".py",
   "mimetype": "text/x-python",
   "name": "python",
   "nbconvert_exporter": "python",
   "pygments_lexer": "ipython3",
   "version": "3.7.0"
  },
  "toc": {
   "base_numbering": 1,
   "nav_menu": {},
   "number_sections": false,
   "sideBar": true,
   "skip_h1_title": true,
   "title_cell": "Table of Contents",
   "title_sidebar": "Contents",
   "toc_cell": false,
   "toc_position": {
    "height": "calc(100% - 180px)",
    "left": "10px",
    "top": "150px",
    "width": "369px"
   },
   "toc_section_display": true,
   "toc_window_display": true
  },
  "varInspector": {
   "cols": {
    "lenName": 16,
    "lenType": 16,
    "lenVar": 40
   },
   "kernels_config": {
    "python": {
     "delete_cmd_postfix": "",
     "delete_cmd_prefix": "del ",
     "library": "var_list.py",
     "varRefreshCmd": "print(var_dic_list())"
    },
    "r": {
     "delete_cmd_postfix": ") ",
     "delete_cmd_prefix": "rm(",
     "library": "var_list.r",
     "varRefreshCmd": "cat(var_dic_list()) "
    }
   },
   "types_to_exclude": [
    "module",
    "function",
    "builtin_function_or_method",
    "instance",
    "_Feature"
   ],
   "window_display": false
  }
 },
 "nbformat": 4,
 "nbformat_minor": 2
}
